{
 "cells": [
  {
   "cell_type": "code",
   "execution_count": null,
   "metadata": {},
   "outputs": [],
   "source": [
    "import os\n",
    "import numpy as np\n",
    "import pandas as pd\n",
    "import phenograph\n",
    "import scanpy as sc\n",
    "from utils import *\n",
    "import anndata"
   ]
  },
  {
   "cell_type": "markdown",
   "metadata": {},
   "source": [
    "## data preprocessing and annotation"
   ]
  },
  {
   "cell_type": "markdown",
   "metadata": {},
   "source": [
    "### load in preprocessed and sketched dataset"
   ]
  },
  {
   "cell_type": "code",
   "execution_count": null,
   "metadata": {},
   "outputs": [],
   "source": [
    "#load in data\n",
    "data_directory = 'data'\n",
    "sample_id = 'ACTG5248'\n",
    "sketch_size = '2500'\n",
    "timepoint_label = 'day'\n",
    "\n",
    "adata = sc.read_h5ad(os.path.join(data_directory, 'adata', f'{sample_id}_preprocessed.h5ad'))\n",
    "subsample_idx = np.load(os.path.join(data_directory, 'kh_output', f'{sample_id}_kh_subsample_{sketch_size}.npy'))\n",
    "\n",
    "# KH subsampling\n",
    "fcs_files = list(adata.obs['fcs_file'].cat.categories)\n",
    "num_sample_sets = len(fcs_files)\n",
    "\n",
    "adata_subsample_ = []\n",
    "for i in range(0, len(fcs_files)):\n",
    "    fcs_data = adata[adata.obs['fcs_file'] == fcs_files[i]]\n",
    "    adata_subsample_.append(fcs_data[fcs_data.obs.iloc[subsample_idx[i]].index])\n",
    "\n",
    "adata_subsample_ = anndata.concat(adata_subsample_)\n",
    "\n",
    "functional_markers = ['PD-1','Bcl-2','Ki-67','CCR5','HLA-DR','CD57','CD38','CD127']\n",
    "\n",
    "phenotypic_markers = ['CD45', 'CD19', 'CD3','CD4','CD8', 'CD14','CD56','CD16','CD11c','TCRgd',\n",
    "                    'CD45RA','CCR10','CD28','CD27','CD95','CCR7','CD99','CD127','CD31','FoxP3',\n",
    "                    'CCR4','CCR6','CXCR5','CXCR3', 'CD25']\n",
    "\n",
    "if sample_id == 'CHI':\n",
    "    phenotypic_markers.remove('CD31')\n",
    "\n",
    "#set dfs for phenograph\n",
    "df = pd.DataFrame(adata_subsample_.X, columns = adata_subsample_.var_names, index = adata_subsample_.obs_names)\n",
    "df['sample_id'] = adata_subsample_.obs['fcs_file'].copy()\n",
    "df['subject'] = adata_subsample_.obs['patient_id'].copy()\n",
    "df['timepoint'] = adata_subsample_.obs['timepoint'].copy()"
   ]
  },
  {
   "cell_type": "markdown",
   "metadata": {},
   "source": [
    "### perform metaclustering"
   ]
  },
  {
   "cell_type": "code",
   "execution_count": null,
   "metadata": {},
   "outputs": [],
   "source": [
    "resolution = 1.25   \n",
    "\n",
    "data, _, _ = phenograph_clustering(data = df, verbose = True, features = phenotypic_markers, k = 30, resolution_parameter = resolution, print_performance_metrics = False)\n",
    "data, _, _ = phenograph_metaclustering(data = data, features = phenotypic_markers, verbose = True, resolution_parameter = resolution, min_cluster_size = 3, k = 30, print_performance_metrics = True)\n",
    "\n",
    "adata_subsample_X = pd.DataFrame(data.iloc[:, np.isin(data.columns, data.columns.drop(['sample_id', 'cluster_label', 'meta_label', 'subject', 'timepoint']))])\n",
    "\n",
    "adata_subsample = anndata.AnnData(adata_subsample_X)\n",
    "adata_subsample.obs['phenograph_clusters_res{}'.format(str(resolution))] = data['cluster_label'].values.astype('str')\n",
    "adata_subsample.obs['phenograph_metaclusters_res{}'.format(str(resolution))] = data['meta_label'].values.astype('str')\n",
    "adata_subsample.obs['fcs_file'] = data['sample_id'].values.astype('str')\n",
    "adata_subsample.obs['patient_id'] = data['subject'].values.astype('str')\n",
    "adata_subsample.obs['timepoint'] = data['timepoint'].values.astype('str')"
   ]
  },
  {
   "cell_type": "markdown",
   "metadata": {},
   "source": [
    "### annotate metaclusters"
   ]
  },
  {
   "cell_type": "code",
   "execution_count": null,
   "metadata": {},
   "outputs": [],
   "source": [
    "if sample_id == 'ACTG5248':\n",
    "    #update naming dictionary below to label clusters\n",
    "    naming_dict = dict(zip(pd.Categorical(adata_subsample.obs[f'phenograph_metaclusters_res{resolution}']).cat.categories, ['CD4+ Tcm 1', 'CD4+ Tcm 2', 'CD8+ Tcm 1', 'CD8+ Tcm 2', 'naive CD4+', 'naive CD8+', 'CD8+ Tcm 3', 'CD8+ Tem 1', 'c15',\n",
    "                                                                                                                    'NK cells', '$\\gamma\\delta$', 'CD4+ Tem 1', 'CD4+ Tem 2', 'CD8+ Tem 2', 'CD8+ Tte 1', 'CD8+ Tte 2', 'CD8+ Tte 3',\n",
    "                                                                                                                    'B cells', 'memory B cells', 'nonclassical monocytes', 'c10', 'intermediate monocytes', 'classical monocytes']))\n",
    "\n",
    "    metaclusters_labeled = pd.Series(adata_subsample.obs[f'phenograph_metaclusters_res{resolution}'.format(str(resolution))].values).map(naming_dict)\n",
    "\n",
    "    adata_subsample.obs[f'phenograph_metaclusters_res{resolution}_labeled'] = metaclusters_labeled.values\n",
    "\n",
    "    cluster_order = ['naive CD4+', 'naive CD8+', 'CD4+ Tcm 1', 'CD4+ Tcm 2', 'CD8+ Tcm 1','CD8+ Tcm 2','CD8+ Tcm 3', 'CD4+ Tem 1', 'CD4+ Tem 2', 'CD8+ Tem 1', 'CD8+ Tem 2', 'CD8+ Tte 1', 'CD8+ Tte 2', 'CD8+ Tte 3', '$\\gamma\\delta$', 'NK cells', 'c10', 'c15', 'B cells', 'memory B cells','classical monocytes', 'intermediate monocytes', 'nonclassical monocytes']\n",
    "    adata_subsample.obs[f'phenograph_metaclusters_res{resolution}_labeled'] = adata_subsample.obs[f'phenograph_metaclusters_res{resolution}_labeled'].cat.reorder_categories(cluster_order)\n",
    "else:\n",
    "    #update naming dictionary below to label clusters\n",
    "    naming_dict = dict(zip(pd.Categorical(adata_subsample.obs[f'phenograph_metaclusters_res{resolution}']), ['CD8+ Tcm', 'naive CD8+', 'naive CD4+','CD4+ Tem', 'CD4+ Tcm', 'B cells', 'nonclassical monocytes', 'NK cells', 'CD8+ Tte', r'$\\gamma\\delta$', 'intermediate monocytes', 'CD8+ Tem']))\n",
    "\n",
    "    metaclusters_labeled = pd.Series(adata_subsample.obs[f'phenograph_metaclusters_res{resolution}_labeled'].values).map(naming_dict)\n",
    "\n",
    "    adata_subsample.obs[f'phenograph_metaclusters_res{resolution}_labeled'] = metaclusters_labeled.values\n",
    "\n",
    "    cluster_order = ['naive CD4+', 'naive CD8+', 'CD4+ Tcm', 'CD8+ Tcm','CD4+ Tem','CD8+ Tem', 'CD8+ Tte', '$\\gamma\\delta$', 'NK cells', 'B cells','intermediate monocytes', 'nonclassical monocytes']\n",
    "    adata_subsample.obs[f'phenograph_metaclusters_res{resolution}_labeled'] = adata_subsample.obs[f'phenograph_metaclusters_res{resolution}_labeled'].cat.reorder_categories(cluster_order)"
   ]
  },
  {
   "cell_type": "markdown",
   "metadata": {},
   "source": [
    "### save subsampled adata object with annotated metaclusters"
   ]
  },
  {
   "cell_type": "code",
   "execution_count": null,
   "metadata": {},
   "outputs": [],
   "source": [
    "#resave data with clustering assignment and annotations\n",
    "adata_subsample.write(os.path.join(data_directory, 'adata', f'{sample_id}_subsample_res{resolution}.h5ad'))"
   ]
  }
 ],
 "metadata": {
  "kernelspec": {
   "display_name": "Python 3.9.13 ('venv_FCS')",
   "language": "python",
   "name": "python3"
  },
  "language_info": {
   "codemirror_mode": {
    "name": "ipython",
    "version": 3
   },
   "file_extension": ".py",
   "mimetype": "text/x-python",
   "name": "python",
   "nbconvert_exporter": "python",
   "pygments_lexer": "ipython3",
   "version": "3.9.13"
  },
  "orig_nbformat": 4,
  "vscode": {
   "interpreter": {
    "hash": "0171f63e2a5105d98f8e3e4aed6a2f03bc3983bffead47856f6b1b79992bbdeb"
   }
  }
 },
 "nbformat": 4,
 "nbformat_minor": 2
}
